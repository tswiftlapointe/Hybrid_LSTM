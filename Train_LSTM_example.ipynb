{
 "cells": [
  {
   "cell_type": "markdown",
   "id": "c233d10c-1a97-4b68-86d2-51318cdbd405",
   "metadata": {
    "id": "c233d10c-1a97-4b68-86d2-51318cdbd405"
   },
   "source": [
    "## Train & Test one example hybrid forecast\n",
    "\n",
    "This notebook contains code that trains and tests one example LSTM model, and then uses this model with the SEAS5 seasonal meteorological forecasts to create a hybrid forecast of seasonal streamflow volume.\n",
    "\n",
    "Must run notebook Data_setup.ipynb first to save required input data in correct format.\n",
    "\n",
    "This notebook is designed to run in Google colab. The required directories should be located in My Drive/Colab Notebooks/Hybrid_LSTM/. Input data from Data_setup.ipynb is saved in subdirectory Data/. Also require file indices_example.csv in subdirectory Output/.\n",
    "\n",
    "Trained model is saved in subdirectory Models/, and output data saved in Output/.\n",
    "\n",
    "Author: Taylor Swift-LaPointe"
   ]
  },
  {
   "cell_type": "code",
   "execution_count": 1,
   "id": "96d7dd7b-3e66-47a9-bd5b-16339a28afb8",
   "metadata": {
    "id": "96d7dd7b-3e66-47a9-bd5b-16339a28afb8"
   },
   "outputs": [],
   "source": [
    "# import required libraries\n",
    "\n",
    "import numpy as np\n",
    "import pandas as pd\n",
    "import matplotlib.pyplot as plt\n",
    "from matplotlib import gridspec\n",
    "from random import seed\n",
    "import random\n",
    "import csv\n",
    "from scipy.stats import pearsonr"
   ]
  },
  {
   "cell_type": "code",
   "execution_count": 2,
   "id": "3121f52a-a947-4241-b86b-72d8a74e49d6",
   "metadata": {
    "id": "3121f52a-a947-4241-b86b-72d8a74e49d6"
   },
   "outputs": [],
   "source": [
    "# import required tensorflow libraries for LSTM\n",
    "\n",
    "import tensorflow as tf\n",
    "import tensorflow.keras\n",
    "from tensorflow.keras.models import Sequential\n",
    "from tensorflow.keras.layers import Dense, InputLayer, LSTM\n",
    "from tensorflow.keras import Input\n",
    "from tensorflow.keras.callbacks import EarlyStopping"
   ]
  },
  {
   "cell_type": "code",
   "execution_count": 3,
   "id": "c49619ec-f9cd-40da-8d05-2b25491ef5eb",
   "metadata": {
    "colab": {
     "base_uri": "https://localhost:8080/"
    },
    "id": "c49619ec-f9cd-40da-8d05-2b25491ef5eb",
    "outputId": "9a4d8428-1a5c-474a-9d4b-99afcaa97d79"
   },
   "outputs": [
    {
     "name": "stdout",
     "output_type": "stream",
     "text": [
      "Mounted at /content/drive\n"
     ]
    }
   ],
   "source": [
    "# get access to google drive\n",
    "# all input data should be saved in Drive\n",
    "# My Drive /\n",
    "#    Colab Notebooks /\n",
    "#         Hybrid_LSTM /\n",
    "#               Data /\n",
    "#               Models /\n",
    "#               Output /\n",
    "\n",
    "from google.colab import drive\n",
    "drive.mount('/content/drive')\n",
    "dir_data = '/content/drive/My Drive/Colab Notebooks/Hybrid_LSTM/Data'\n",
    "dir_models = '/content/drive/My Drive/Colab Notebooks/Hybrid_LSTM/Models'\n",
    "dir_output = '/content/drive/My Drive/Colab Notebooks/Hybrid_LSTM/Output'"
   ]
  },
  {
   "cell_type": "code",
   "execution_count": null,
   "id": "4045b100-60a2-4c80-bd97-a0554b1e34c6",
   "metadata": {},
   "outputs": [],
   "source": [
    "### if running locally:\n",
    "\n",
    "#dir_data = 'Data'\n",
    "#dir_output = 'Output'\n",
    "#dir_models = 'Models'"
   ]
  },
  {
   "cell_type": "markdown",
   "id": "59412dc0-6ceb-4839-93c7-bb81bb966453",
   "metadata": {
    "id": "59412dc0-6ceb-4839-93c7-bb81bb966453",
    "jp-MarkdownHeadingCollapsed": true
   },
   "source": [
    "#### 1. Functions\n",
    "\n",
    "Functions that will be called throughout notebook."
   ]
  },
  {
   "cell_type": "code",
   "execution_count": 4,
   "id": "76e587ec-7487-4a4c-a69c-6ba2ac6ecc00",
   "metadata": {
    "id": "76e587ec-7487-4a4c-a69c-6ba2ac6ecc00"
   },
   "outputs": [],
   "source": [
    "### function to calculate Nash-Sutcliffe Efficiency\n",
    "\n",
    "def NSE_func(y_obs, y_model):\n",
    "    numerator = 0\n",
    "    denominator = 0\n",
    "    y_obs_mean = np.mean(y_obs)\n",
    "    for i in range(len(y_model)):\n",
    "        num = (y_model[i] - y_obs[i])**2\n",
    "        numerator += num\n",
    "        denom = (y_obs[i] - y_obs_mean)**2\n",
    "        denominator += denom\n",
    "    nse = 1 - numerator/denominator\n",
    "    return nse"
   ]
  },
  {
   "cell_type": "code",
   "execution_count": 5,
   "id": "2682ef3e-7cf8-40e0-82f5-792b991b30ca",
   "metadata": {
    "id": "2682ef3e-7cf8-40e0-82f5-792b991b30ca"
   },
   "outputs": [],
   "source": [
    "### function to calculate Coefficient of Determination\n",
    "\n",
    "def R2_func(y_obs, y_model):\n",
    "    SS_res = 0\n",
    "    SS_tot = 0\n",
    "    y_obs_mean = np.mean(y_obs)\n",
    "    for i in range(len(y_model)):\n",
    "        SS_res += (y_obs[i] - y_model[i])**2\n",
    "        SS_tot += (y_obs[i] - y_obs_mean)**2\n",
    "    r_sq = 1 - SS_res/SS_tot\n",
    "    return r_sq"
   ]
  },
  {
   "cell_type": "code",
   "execution_count": 6,
   "id": "509563fe-987b-4204-afdb-68132ef3cd5d",
   "metadata": {
    "id": "509563fe-987b-4204-afdb-68132ef3cd5d"
   },
   "outputs": [],
   "source": [
    "### function to create model\n",
    "\n",
    "def build_model(N_mons_prior, N_vars, learning_rate):\n",
    "    # returns not-yet-trained LSTM model\n",
    "    # inputs:\n",
    "    #    N_mons_prior = number of prev. months used (=12)\n",
    "    #    learning_rate = int\n",
    "    # output:\n",
    "    #    model = un-trained LSTM model\n",
    "\n",
    "    model = Sequential()\n",
    "    #model.add(InputLayer(input_shape = (N_mons_prior, N_vars)))\n",
    "    model.add(InputLayer(shape = (N_mons_prior, N_vars)))\n",
    "    model.add(LSTM(80, return_sequences=False))\n",
    "    model.add(Dense(1, activation='linear'))\n",
    "    model.compile(loss=tf.keras.losses.MSE, optimizer=tf.keras.optimizers.Adam(learning_rate=learning_rate))\n",
    "\n",
    "    return model"
   ]
  },
  {
   "cell_type": "code",
   "execution_count": 7,
   "id": "e742483a-3acf-4151-b451-fa9d46db9ffd",
   "metadata": {
    "id": "e742483a-3acf-4151-b451-fa9d46db9ffd"
   },
   "outputs": [],
   "source": [
    "### function to save output after training LSTM\n",
    "\n",
    "# each run tests on one year only, so 12 points\n",
    "# store each ensemble member of each run in one file\n",
    "def create_csv_output(run_id, dir_output, Ntestyrs):\n",
    "    # create csv file to store all ensemble members of each run\n",
    "    # fills first row with labels\n",
    "    # inputs:\n",
    "    #    dir_output = str of directory in DRIVE for output\n",
    "    #    Ntestyrs = int\n",
    "    #    run_id = int (run number)\n",
    "    # outputs saved in dir_output\n",
    "\n",
    "    ind_labels_array = np.empty(((Ntestyrs*12) + 1), dtype='U100')\n",
    "    ind_labels_array[0] = 'ensemble'\n",
    "\n",
    "    for i in range(Ntestyrs):\n",
    "        ind_labels_array[1+(i*12):1+((i+1)*12)] = np.asarray(['1', '2', '3', '4', '5', '6', '7', '8', '9', '10', '11', '12'], dtype='U100')\n",
    "    index_filename = 'LSTM_output_run{}.csv'.format(run_id)\n",
    "    with open(dir_output+'/'+index_filename, 'w') as f:\n",
    "        writer = csv.writer(f)\n",
    "        writer.writerow(ind_labels_array)\n",
    "        f.close()\n",
    "    return"
   ]
  },
  {
   "cell_type": "code",
   "execution_count": 50,
   "id": "43200812-7997-419f-80c1-74b1e1ba6d4c",
   "metadata": {
    "id": "43200812-7997-419f-80c1-74b1e1ba6d4c"
   },
   "outputs": [],
   "source": [
    "### function that loads pre-built model & trains 5 ensemble members\n",
    "\n",
    "def train_models(run_id, dir_output, dir_models, x_train, y_train, x_val, y_val, x_test, y_test):\n",
    "    # trains models\n",
    "    # saves models to dir_models\n",
    "    # saves test output of trained model on x_test to csv file in dir_output\n",
    "    # inputs:\n",
    "    #     run_id = str\n",
    "    #     dir_output, dir_models = str, directories in DRIVE for output, models\n",
    "    #     train/val/test data as tensors\n",
    "    # outputs saved in dir_output, models saved in dir_models\n",
    "\n",
    "    seeds = [00, 11, 22, 33, 44]  # 5 ensemble members\n",
    "    learning_rate = 1e-4\n",
    "\n",
    "    # create csv file to store output of all ensemble members\n",
    "    #  placeholder so far -- will add to in below loop\n",
    "    Ntestyrs = 1\n",
    "    create_csv_output(run_id, dir_output, Ntestyrs)\n",
    "\n",
    "    # loop through ensemble members\n",
    "    for ii, s in enumerate(seeds):\n",
    "        print('Training model ' + str(ii+1) + ' / ' + str(len(seeds)))\n",
    "\n",
    "        # set random seeds\n",
    "        seed(s)\n",
    "        np.random.seed(s)\n",
    "        tf.random.set_seed(s)\n",
    "\n",
    "        # define earlier stopping callback to use in all models\n",
    "        callbacks = EarlyStopping(monitor='val_loss', mode='min', verbose=0, patience=5, restore_best_weights=True)\n",
    "\n",
    "        # create train/val datasets for fine model\n",
    "        batch_size = 64\n",
    "        train_dataset = tf.data.Dataset.from_tensor_slices((x_train, y_train)).batch(batch_size)\n",
    "        val_dataset = tf.data.Dataset.from_tensor_slices((x_val, y_val)).batch(batch_size)\n",
    "\n",
    "        # generate & train fine model\n",
    "        model = build_model(12, 3, learning_rate)\n",
    "        model.fit(train_dataset, validation_data=val_dataset, epochs=200, verbose=0, callbacks=[callbacks])\n",
    "\n",
    "        # predict test streamflow volume\n",
    "        y_test_predict = model.predict(x_test, batch_size=batch_size, verbose=0)\n",
    "\n",
    "        # save output to previously created csv file\n",
    "        saveit_array = np.empty((len(y_test_predict)+1))\n",
    "        saveit_array[0] = ii\n",
    "        saveit_array[1:] = y_test_predict[:,0]\n",
    "\n",
    "        filename = 'LSTM_output_run{}.csv'.format(run_id)\n",
    "        with open(dir_output + '/' + filename, 'a') as f:\n",
    "            writer = csv.writer(f)\n",
    "            writer.writerow(saveit_array)\n",
    "            f.close()\n",
    "\n",
    "        # save model\n",
    "        model_name = 'LSTM_model_run{}_{}.keras'.format(run_id, ii)\n",
    "        model.save(dir_models + '/' + model_name)\n",
    "\n",
    "    # end loop through ensemble members\n",
    "\n",
    "    return"
   ]
  },
  {
   "cell_type": "markdown",
   "id": "d6c456c2-ee13-4867-9d56-65719f0e7c3c",
   "metadata": {
    "id": "d6c456c2-ee13-4867-9d56-65719f0e7c3c"
   },
   "source": [
    "#### 2. Train and test one LSTM model\n",
    "\n",
    "This code loads the input data saved in Data_setup.ipynb, separates it into training/validation/testing for one example test year, trains and validates LSTM model, saves trained model in Models/ and tests saved output data."
   ]
  },
  {
   "cell_type": "code",
   "execution_count": 10,
   "id": "7e7ab584-15d3-4b85-a616-8dc5f5412590",
   "metadata": {
    "colab": {
     "base_uri": "https://localhost:8080/"
    },
    "id": "7e7ab584-15d3-4b85-a616-8dc5f5412590",
    "outputId": "7d014095-cb14-4349-d648-163b88776d40"
   },
   "outputs": [
    {
     "name": "stdout",
     "output_type": "stream",
     "text": [
      "Input data:  (444, 3)\n",
      "Output data:  (444, 1)\n"
     ]
    }
   ],
   "source": [
    "### load input & output data used to train the LSTM\n",
    "\n",
    "## load data\n",
    "# input data - Tmin, Tmax, Precip:\n",
    "filename_input = 'Monthly_input_Mica_1981_2017_REGRID.csv'\n",
    "data_input = pd.read_csv(dir_data + '/' + filename_input, header=0)\n",
    "data_input = np.array(data_input)\n",
    "# output data - volume:\n",
    "filename_output = 'BPA_monthly_volumes_1981_2017.csv'\n",
    "data_output = pd.read_csv(dir_data + '/' + filename_output, header=0)\n",
    "data_output = np.array(data_output)\n",
    "\n",
    "## check both start 01-1981\n",
    "# input:\n",
    "if data_input[0,0] == '01-1981':\n",
    "    # cut out dates column\n",
    "    dates_input = data_input[:,0]\n",
    "    data_input_cut = data_input[:,1:]\n",
    "else:\n",
    "    # cut start to 01-1981\n",
    "    start_ind = np.where(data_input[:,0] == '01-1981')[0][0]\n",
    "    data_input_cut = data_input[start_ind:,1:]\n",
    "    dates_input = data_input[start_ind:,0]\n",
    "# output:\n",
    "if data_output[0,0] == '01-1981':\n",
    "    # cut out dates column\n",
    "    dates_output = data_output[:,0]\n",
    "    data_output_cut = data_output[:,1:]\n",
    "else:\n",
    "    start_ind = np.where(data_output[:,0] == '01-1981')[0][0]\n",
    "    data_output_cut = data_output[start_ind:,1:]\n",
    "    dates_output = data_output[start_ind:,0]\n",
    "\n",
    "print('Input data: ', data_input_cut.shape)\n",
    "print('Output data: ', data_output_cut.shape)"
   ]
  },
  {
   "cell_type": "code",
   "execution_count": 19,
   "id": "a72315d0-66c0-48b4-9fde-2024ef9f67c7",
   "metadata": {
    "colab": {
     "base_uri": "https://localhost:8080/"
    },
    "id": "a72315d0-66c0-48b4-9fde-2024ef9f67c7",
    "outputId": "374cf632-bcca-4f44-9457-cc9cd9d56bd8"
   },
   "outputs": [
    {
     "name": "stdout",
     "output_type": "stream",
     "text": [
      "Test year =  2014\n"
     ]
    }
   ],
   "source": [
    "### get indices of train/val/test years\n",
    "#  this selects which years are used for train/val/test and in what order\n",
    "\n",
    "# !! Note: since previous 12-months of input data required for each train/val/test year,\n",
    "#   first possible test year is 1982. Thus index 0 in this list is 1982, not 1981.\n",
    "\n",
    "# number of training, validation, testing years\n",
    "Ntrainyrs = 28\n",
    "Nvalyrs = 7\n",
    "Ntestyrs = 1  # for leave-one-year-out validation method\n",
    "\n",
    "## load saved indices from csv file (choose which test year)\n",
    "# to test on 2014:\n",
    "run_indices = pd.read_csv(dir_output + '/indices_example1.csv', header=0)\n",
    "# to test on 1982:\n",
    "#run_indices = pd.read_csv(dir_output + '/indices_example.csv', header=0)\n",
    "run_indices = np.array(run_indices)[0]\n",
    "\n",
    "## select train/val/test indices\n",
    "train_inds = run_indices[1:Ntrainyrs+1]\n",
    "val_inds = run_indices[Ntrainyrs+1:Ntrainyrs+Nvalyrs+1]\n",
    "test_ind = run_indices[-1]\n",
    "\n",
    "## print test year to check\n",
    "test_years_all = np.arange(1982,2018)\n",
    "test_year = test_years_all[test_ind]\n",
    "print('Test year = ', test_year)"
   ]
  },
  {
   "cell_type": "code",
   "execution_count": 21,
   "id": "480231ee-8689-4150-9ccc-8e2533f74b04",
   "metadata": {
    "id": "480231ee-8689-4150-9ccc-8e2533f74b04"
   },
   "outputs": [],
   "source": [
    "### normalize input & output data relative to training years\n",
    "\n",
    "# placeholder arrays for training data\n",
    "data_input_train = np.zeros((Ntrainyrs*12,3))\n",
    "data_output_train = np.zeros((Ntrainyrs*12,))\n",
    "dates_input_train = np.zeros((Ntrainyrs*12,), dtype='U100')\n",
    "\n",
    "# collect data from training years\n",
    "# loop through training years\n",
    "for i in range(Ntrainyrs):\n",
    "    # index 0=1982, but data starts at 1981\n",
    "    #  so add 1 to trainyr_ind\n",
    "    trainyr_ind = train_inds[i]+1\n",
    "    data_input_train[i*12:(i+1)*12,:] = data_input_cut[trainyr_ind*12:(trainyr_ind+1)*12,:]\n",
    "    data_output_train[i*12:(i+1)*12] = data_output_cut[trainyr_ind*12:(trainyr_ind+1)*12,0]\n",
    "    dates_input_train[i*12:(i+1)*12] = dates_input[trainyr_ind*12:(trainyr_ind+1)*12]\n",
    "# end loop through training years\n",
    "\n",
    "# take mean, stdev of each variable over training period\n",
    "data_input_train_mean = np.mean(data_input_train, axis=0)\n",
    "data_input_train_std = np.std(data_input_train, axis=0)\n",
    "data_output_train_mean = np.mean(data_output_train)\n",
    "data_output_train_std = np.std(data_output_train)\n",
    "\n",
    "# normalize all data w.r.t training period\n",
    "data_input_norm = np.empty_like(data_input_cut)\n",
    "# loop through input variables\n",
    "for n in range(3):\n",
    "    data_input_norm[:,n] = (data_input_cut[:,n] - data_input_train_mean[n])/data_input_train_std[n]\n",
    "# end loop through variables\n",
    "data_output_norm = np.empty_like(data_output_cut)\n",
    "data_output_norm = (data_output_cut - data_output_train_mean)/data_output_train_std"
   ]
  },
  {
   "cell_type": "code",
   "execution_count": 35,
   "id": "1b61fd91-d190-4e4f-b65b-143a1d9704d1",
   "metadata": {
    "colab": {
     "base_uri": "https://localhost:8080/"
    },
    "id": "1b61fd91-d190-4e4f-b65b-143a1d9704d1",
    "outputId": "f08e44bf-0e12-47eb-9a85-7670ae58aaab"
   },
   "outputs": [
    {
     "name": "stdout",
     "output_type": "stream",
     "text": [
      "LSTM input shape:  (432, 12, 3)\n",
      "LSTM output shape:  (432,)\n",
      " start, end dates:  01-1982 12-2017\n"
     ]
    }
   ],
   "source": [
    "### create LSTM input and output format\n",
    "\n",
    "# input shape: (N_observations, N_months_prior, N_vars)\n",
    "# output shape: (N_observations,)\n",
    "\n",
    "# select number of months before present to use for prediction\n",
    "N_mons_prior = 12\n",
    "\n",
    "# number of variables\n",
    "N_vars = 3\n",
    "\n",
    "# length of data to be used\n",
    "N_observations = len(data_output_norm) - N_mons_prior\n",
    "\n",
    "# placeholders for input, output data\n",
    "x_input = np.zeros((N_observations, N_mons_prior, N_vars))\n",
    "y_output = np.zeros((N_observations,))\n",
    "y_dates = np.zeros((N_observations,), dtype='U100') # to keep track of dates of output\n",
    "\n",
    "# for each \"observation\", input is previous 12 months of temp/precip,\n",
    "#                         output is streamflow volume of next month\n",
    "# Note: both data_input and data_output start 01/1981\n",
    "#   after this step, x_input will start 01/1981, y_output will start 01/1982\n",
    "for i in range(N_observations):\n",
    "    x_input[i,:,:] = data_input_norm[i:i+N_mons_prior,:]\n",
    "    y_output[i] = data_output_norm[i+N_mons_prior,0]\n",
    "    y_dates[i] = dates_output[i+N_mons_prior]\n",
    "\n",
    "print('LSTM input shape: ', x_input.shape)\n",
    "print('LSTM output shape: ', y_output.shape)\n",
    "print(' start, end dates: ', y_dates[0], y_dates[-1])"
   ]
  },
  {
   "cell_type": "code",
   "execution_count": 45,
   "id": "624923c5-f780-4dbb-9361-8842978c290e",
   "metadata": {
    "colab": {
     "base_uri": "https://localhost:8080/"
    },
    "id": "624923c5-f780-4dbb-9361-8842978c290e",
    "outputId": "dbe53abb-0315-4e45-9699-2ab78a30683c"
   },
   "outputs": [
    {
     "name": "stdout",
     "output_type": "stream",
     "text": [
      "x_train shape:  (336, 12, 3)\n",
      "x_val shape:  (84, 12, 3)\n",
      "x_test shape:  (12, 12, 3)\n"
     ]
    }
   ],
   "source": [
    "### separate out train/val/test data\n",
    "\n",
    "# placeholders for train/val/test data\n",
    "x_train = np.zeros((Ntrainyrs*12, N_mons_prior, N_vars))\n",
    "x_val = np.zeros((Nvalyrs*12, N_mons_prior, N_vars))\n",
    "x_test = np.zeros((Ntestyrs*12, N_mons_prior, N_vars))\n",
    "y_train = np.zeros((Ntrainyrs*12,))\n",
    "y_val = np.zeros((Nvalyrs*12,))\n",
    "y_test = np.zeros((Ntestyrs*12,))\n",
    "\n",
    "## add data\n",
    "# loop through training years\n",
    "for i in range(Ntrainyrs):\n",
    "    trainyr_ind = train_inds[i]\n",
    "    x_train[i*12:(i+1)*12,:,:] = x_input[trainyr_ind*12:(trainyr_ind+1)*12,:,:]\n",
    "    y_train[i*12:(i+1)*12] = y_output[trainyr_ind*12:(trainyr_ind+1)*12]\n",
    "# end loop through training years\n",
    "\n",
    "# loop through validation years\n",
    "for i in range(Nvalyrs):\n",
    "    valyr_ind = val_inds[i]\n",
    "    x_val[i*12:(i+1)*12,:,:] = x_input[valyr_ind*12:(valyr_ind+1)*12,:,:]\n",
    "    y_val[i*12:(i+1)*12] = y_output[valyr_ind*12:(valyr_ind+1)*12]\n",
    "# end loop through validation years\n",
    "\n",
    "# add test year data (one year only)\n",
    "testyr_ind = test_ind\n",
    "x_test[0:12,:,:] = x_input[testyr_ind*12:(testyr_ind+1)*12,:,:]\n",
    "y_test[0:12] = y_output[testyr_ind*12:(testyr_ind+1)*12]\n",
    "\n",
    "## convert train/val/test arrays to tensors\n",
    "x_train = tf.convert_to_tensor(x_train)\n",
    "y_train = tf.convert_to_tensor(y_train)\n",
    "x_val = tf.convert_to_tensor(x_val)\n",
    "y_val = tf.convert_to_tensor(y_val)\n",
    "x_test = tf.convert_to_tensor(x_test)\n",
    "y_test = tf.convert_to_tensor(y_test)\n",
    "\n",
    "print('x_train shape: ', x_train.shape)\n",
    "print('x_val shape: ', x_val.shape)\n",
    "print('x_test shape: ', x_test.shape)"
   ]
  },
  {
   "cell_type": "code",
   "execution_count": 51,
   "id": "d084af34-25c7-4716-b3bd-ca0349dd90c9",
   "metadata": {
    "colab": {
     "base_uri": "https://localhost:8080/"
    },
    "id": "d084af34-25c7-4716-b3bd-ca0349dd90c9",
    "outputId": "16df31c7-605e-4b8d-ba02-c38c2e41f98d"
   },
   "outputs": [
    {
     "name": "stdout",
     "output_type": "stream",
     "text": [
      "Training model 1 / 5\n",
      "Training model 2 / 5\n",
      "Training model 3 / 5\n",
      "Training model 4 / 5\n",
      "Training model 5 / 5\n"
     ]
    },
    {
     "name": "stderr",
     "output_type": "stream",
     "text": [
      "WARNING:tensorflow:5 out of the last 5 calls to <function TensorFlowTrainer.make_predict_function.<locals>.one_step_on_data_distributed at 0x7a75fc9bfc40> triggered tf.function retracing. Tracing is expensive and the excessive number of tracings could be due to (1) creating @tf.function repeatedly in a loop, (2) passing tensors with different shapes, (3) passing Python objects instead of tensors. For (1), please define your @tf.function outside of the loop. For (2), @tf.function has reduce_retracing=True option that can avoid unnecessary retracing. For (3), please refer to https://www.tensorflow.org/guide/function#controlling_retracing and https://www.tensorflow.org/api_docs/python/tf/function for  more details.\n"
     ]
    }
   ],
   "source": [
    "### train LSTM model\n",
    "\n",
    "# one LSTM model has 5 ensemble members\n",
    "# all are trained/validated on above-defined train/val data\n",
    "# and trained models are tested on above-defined test data\n",
    "# trained ensemble models saved in dir_models\n",
    "# tested output saved in dir_output\n",
    "\n",
    "#run_id = 0  # if running multiple models, change this\n",
    "run_id = 32\n",
    "\n",
    "train_models(run_id, dir_output, dir_models, x_train, y_train, x_val, y_val, x_test, y_test)"
   ]
  },
  {
   "cell_type": "code",
   "execution_count": 57,
   "id": "11335c68-4a43-4868-97d6-d5d60f2daf59",
   "metadata": {
    "colab": {
     "base_uri": "https://localhost:8080/",
     "height": 330
    },
    "id": "11335c68-4a43-4868-97d6-d5d60f2daf59",
    "outputId": "353024b0-0afe-4c1e-b4cd-8f0bbe6f3cad"
   },
   "outputs": [
    {
     "data": {
      "image/png": "[encoded data removed]",
      "text/plain": [
       "<Figure size 500x300 with 1 Axes>"
      ]
     },
     "metadata": {},
     "output_type": "display_data"
    }
   ],
   "source": [
    "### load saved test output\n",
    "\n",
    "filename_output = 'LSTM_output_run{}.csv'.format(run_id)\n",
    "data_output = pd.read_csv(dir_output + '/' + filename_output, header=0)\n",
    "data_output = np.array(data_output)\n",
    "\n",
    "# de-normalize data\n",
    "y_test_unnorm = y_test*data_output_train_std + data_output_train_mean # observation\n",
    "data_output_unnorm = data_output[:,1:]*data_output_train_std + data_output_train_mean # model prediction\n",
    "\n",
    "# calculate ensemble mean, stdev\n",
    "data_output_mean = np.mean(data_output_unnorm, axis=0)\n",
    "data_output_std = np.std(data_output_unnorm, axis=0)\n",
    "\n",
    "# calculate NSE of ensemble average\n",
    "NSE = NSE_func(np.asarray(y_test_unnorm), data_output_mean)\n",
    "\n",
    "# plot ensemble average\n",
    "fig = plt.figure(figsize=(5,3))\n",
    "plt.plot(np.arange(0,12,1), y_test_unnorm, 'ko-', label='Observation')\n",
    "plt.errorbar(np.arange(0,12,1), data_output_mean, yerr=data_output_std, fmt='s--', ecolor='k', capsize=2, label='LSTM-run{}'.format(run_id))\n",
    "plt.text(0,3.2e9,'NSE={}'.format(round(NSE,2)),fontsize=12, color='tab:blue')\n",
    "tick_labels = ['Jan', 'Feb', 'Mar', 'Apr', 'May', 'Jun', 'Jul', 'Aug', 'Sep', 'Oct', 'Nov', 'Dec']\n",
    "plt.xticks(np.arange(0,12,1), tick_labels, rotation=45)\n",
    "plt.ylabel(r'Volume ($m^3$)')\n",
    "plt.title('LSTM Output')\n",
    "plt.legend()\n",
    "plt.show()"
   ]
  },
  {
   "cell_type": "code",
   "execution_count": 58,
   "id": "77ad1f43-19c2-464b-ba5c-24df1ed57531",
   "metadata": {
    "colab": {
     "base_uri": "https://localhost:8080/",
     "height": 401
    },
    "id": "77ad1f43-19c2-464b-ba5c-24df1ed57531",
    "outputId": "baad59ab-8b88-4269-cdb4-9078f47dcd22"
   },
   "outputs": [
    {
     "data": {
      "image/png": "[encoded data removed]",
      "text/plain": [
       "<Figure size 300x300 with 1 Axes>"
      ]
     },
     "metadata": {},
     "output_type": "display_data"
    }
   ],
   "source": [
    "### calculate seasonal total volumes\n",
    "\n",
    "# volume of observed data\n",
    "y_test_volume = np.sum(y_test_unnorm[0:9])\n",
    "# volume of all 5 ensemble members\n",
    "data_output_volume = np.sum(data_output_unnorm[:,0:9], axis=1)\n",
    "# volume of ensemble average\n",
    "data_output_mean_volume = np.sum(data_output_mean[0:9])\n",
    "\n",
    "# plot as bar graph\n",
    "fig = plt.figure(figsize=(3,3))\n",
    "plt.bar(0, y_test_volume, color='tab:gray')\n",
    "plt.bar(1, data_output_mean_volume, yerr=np.std(data_output_volume), color='tab:blue', ecolor='k', capsize=2)\n",
    "plt.xticks([0,1], ['Observation', 'LSTM-predicted'], rotation=45)\n",
    "plt.ylabel(r'Volume (m^3)')\n",
    "plt.title('Seasonal Total Volumes')\n",
    "plt.show()"
   ]
  },
  {
   "cell_type": "markdown",
   "id": "4219b07b-cc87-4926-a458-ecc98faf7208",
   "metadata": {
    "id": "4219b07b-cc87-4926-a458-ecc98faf7208"
   },
   "source": [
    "#### 3. Create hybrid forecast of seasonal volume\n",
    "\n",
    "This code loads the ECMWF SEAS5 seasonal meteorological hindcasts data saved in Data_setup.ipynb, uses it as input into the saved LSTM model created in previous section, to create hybrid forecast of seasonal volume for test year.\n",
    "\n",
    "Note: must run all code in Section 2 first, as this code uses saved variables."
   ]
  },
  {
   "cell_type": "code",
   "execution_count": 61,
   "id": "deb56ddd-86bd-496f-afa6-19bbc4b13afd",
   "metadata": {
    "colab": {
     "base_uri": "https://localhost:8080/"
    },
    "id": "deb56ddd-86bd-496f-afa6-19bbc4b13afd",
    "outputId": "3e8156df-d82d-4c62-8ae2-33ebdaf2cbbd"
   },
   "outputs": [
    {
     "name": "stdout",
     "output_type": "stream",
     "text": [
      "(12, 3)\n",
      "(222, 3)\n"
     ]
    }
   ],
   "source": [
    "### load SEAS5 hindcast data and ERA5 climatology data\n",
    "\n",
    "# SEAS5 hindcasts\n",
    "filename_SEAS5 = 'SEAS5_monthly_input_Mica_1981_2017.csv'\n",
    "data_input_SEAS5 = pd.read_csv(dir_data + '/' + filename_SEAS5, header=0)\n",
    "data_input_SEAS5 = np.array(data_input_SEAS5)\n",
    "data_dates_SEAS5 = data_input_SEAS5[:,0]\n",
    "\n",
    "# Clim\n",
    "filename_clim = 'Monthly_climatology_Mica_1981_2017_REGRID.csv'\n",
    "data_input_clim = pd.read_csv(dir_data + '/' + filename_clim, header=0)\n",
    "data_input_clim = np.array(data_input_clim)\n",
    "\n",
    "## normalize SEAS5 & Clim relative to training data\n",
    "data_input_clim_norm = np.empty_like(data_input_clim[:,1:])\n",
    "data_input_SEAS5_norm = np.empty_like(data_input_SEAS5[:,1:])\n",
    "# loop through variables\n",
    "for i in range(3):\n",
    "    data_input_clim_norm[:,i] = (data_input_clim[:,i+1] - data_input_train_mean[i])/data_input_train_std[i]\n",
    "    data_input_SEAS5_norm[:,i] = (data_input_SEAS5[:,i+1] - data_input_train_mean[i])/data_input_train_std[i]\n",
    "\n",
    "print(data_input_clim_norm.shape)\n",
    "print(data_input_SEAS5_norm.shape)"
   ]
  },
  {
   "cell_type": "code",
   "execution_count": 63,
   "id": "ad3ca6d0-0461-41a5-8090-8c6a42c587ab",
   "metadata": {
    "id": "ad3ca6d0-0461-41a5-8090-8c6a42c587ab"
   },
   "outputs": [],
   "source": [
    "### turn SEAS5 & Clim into required LSTM input format\n",
    "# first 6 months have only SEAS5 data in forecast year\n",
    "# after this, has 6 months of SEAS5 data + i months of climatology in forecast year\n",
    "\n",
    "# placeholders\n",
    "x_test_wSEAS5 = np.zeros((12, 12, 3))\n",
    "x_test_dates_wSEAS5 = np.zeros((12, 12), dtype='U100') # for dates to check\n",
    "\n",
    "# find index to start from, based on test year\n",
    "# ERA5 input needs to start 12 months before test year\n",
    "start_ind = np.where(dates_input == \"01-{}\".format(test_year))[0][0]-12  # =testyear-1yr\n",
    "# SEAS5 input needs to start on test year\n",
    "start_ind_SEAS5 = np.where(data_dates_SEAS5 == '01-{}'.format(test_year))[0][0]  # =testyear\n",
    "\n",
    "## add data to placeholder\n",
    "# first 6 months (i in range 0-6)\n",
    "#   = i months of ERA5 + (12-i) months of SEAS5\n",
    "for i in range(0,7,1):\n",
    "    x_test_wSEAS5[i,0:(12-i),:] = data_input_norm[start_ind+i:start_ind+12,:]  # add prev 1yr\n",
    "    x_test_wSEAS5[i,(12-i):12,:] = data_input_SEAS5_norm[start_ind_SEAS5:start_ind_SEAS5+i,:]\n",
    "    x_test_dates_wSEAS5[i,0:(12-i)] = dates_input[start_ind+i:start_ind+12]\n",
    "    x_test_dates_wSEAS5[i,(12-i):12] = data_dates_SEAS5[start_ind_SEAS5:start_ind_SEAS5+i]\n",
    "\n",
    "# next 6 months (i in range 7-12)\n",
    "#   = i months of ERA5 + 6 months of SEAS5 + (6-i) months of Clim\n",
    "for i in range(7,12,1):\n",
    "    x_test_wSEAS5[i,0:(12-i),:] = data_input_norm[start_ind+i:start_ind+12,:]  # add prev 1yr\n",
    "    x_test_wSEAS5[i,(12-i):(12-i+6),:] = data_input_SEAS5_norm[start_ind_SEAS5:start_ind_SEAS5+6,:]  # add SEAS5 Jan-Jun\n",
    "    x_test_wSEAS5[i,(12-i+6):12,:] = data_input_clim_norm[6:i,:] # add clim Jul-Sep/Dec\n",
    "    x_test_dates_wSEAS5[i,0:(12-i)] = dates_input[start_ind+i:start_ind+12]\n",
    "    x_test_dates_wSEAS5[i,(12-i):(12-i+6)] = data_dates_SEAS5[start_ind_SEAS5:start_ind_SEAS5+6]\n",
    "    x_test_dates_wSEAS5[i,(12-i+6):12] = np.arange(7,i+1,1)"
   ]
  },
  {
   "cell_type": "code",
   "execution_count": 70,
   "id": "12cbc752-1b45-4bf6-baa7-99b281f3f324",
   "metadata": {
    "id": "12cbc752-1b45-4bf6-baa7-99b281f3f324"
   },
   "outputs": [],
   "source": [
    "### load saved LSTM models\n",
    "# these models were trained in Section 2 above\n",
    "\n",
    "batch_size = 64\n",
    "\n",
    "model0 = tf.keras.models.load_model(dir_models + '/LSTM_model_run{}_0.keras'.format(run_id))\n",
    "model1 = tf.keras.models.load_model(dir_models + '/LSTM_model_run{}_1.keras'.format(run_id))\n",
    "model2 = tf.keras.models.load_model(dir_models + '/LSTM_model_run{}_2.keras'.format(run_id))\n",
    "model3 = tf.keras.models.load_model(dir_models + '/LSTM_model_run{}_3.keras'.format(run_id))\n",
    "model4 = tf.keras.models.load_model(dir_models + '/LSTM_model_run{}_4.keras'.format(run_id))"
   ]
  },
  {
   "cell_type": "code",
   "execution_count": 81,
   "id": "80c82fbc-3a08-4b5c-be9c-4eb36c5486bc",
   "metadata": {
    "id": "80c82fbc-3a08-4b5c-be9c-4eb36c5486bc"
   },
   "outputs": [],
   "source": [
    "### use SEAS5 input into loaded LSTM models\n",
    "\n",
    "# placeholder for output\n",
    "y_test_predict_wSEAS5_all = np.zeros((6, 12))\n",
    "\n",
    "# predict with new input\n",
    "y_test_predict_wSEAS5_all[0,:] = np.asarray(model0.predict(tf.convert_to_tensor(x_test_wSEAS5), batch_size=batch_size, verbose=0)[:,0])\n",
    "y_test_predict_wSEAS5_all[1,:] = np.asarray(model1.predict(tf.convert_to_tensor(x_test_wSEAS5), batch_size=batch_size, verbose=0)[:,0])\n",
    "y_test_predict_wSEAS5_all[2,:] = np.asarray(model2.predict(tf.convert_to_tensor(x_test_wSEAS5), batch_size=batch_size, verbose=0)[:,0])\n",
    "y_test_predict_wSEAS5_all[3,:] = np.asarray(model3.predict(tf.convert_to_tensor(x_test_wSEAS5), batch_size=batch_size, verbose=0)[:,0])\n",
    "y_test_predict_wSEAS5_all[4,:] = np.asarray(model4.predict(tf.convert_to_tensor(x_test_wSEAS5), batch_size=batch_size, verbose=0)[:,0])\n",
    "\n",
    "### add ensemble average\n",
    "y_test_predict_wSEAS5_all[5,:] = np.mean(y_test_predict_wSEAS5_all[0:5,:], axis=0)\n",
    "\n",
    "### de-normalize all ensembles\n",
    "y_test_predict_wSEAS5_unnorm_all = y_test_predict_wSEAS5_all*data_output_train_std + data_output_train_mean"
   ]
  },
  {
   "cell_type": "code",
   "execution_count": 88,
   "id": "9d94141f-a69f-4971-a554-9a02fb6ca6d3",
   "metadata": {
    "colab": {
     "base_uri": "https://localhost:8080/",
     "height": 330
    },
    "id": "9d94141f-a69f-4971-a554-9a02fb6ca6d3",
    "outputId": "fef6f3b9-5cce-4669-dfc1-eb9aca75b009"
   },
   "outputs": [
    {
     "data": {
      "image/png": "[encoded data removed]",
      "text/plain": [
       "<Figure size 500x300 with 1 Axes>"
      ]
     },
     "metadata": {},
     "output_type": "display_data"
    }
   ],
   "source": [
    "### plot ensemble average\n",
    "# plot with LSTM model with ERA5 input\n",
    "\n",
    "NSE_hybrid = NSE_func(np.asarray(y_test_unnorm), y_test_predict_wSEAS5_unnorm_all[5,:])\n",
    "\n",
    "fig = plt.figure(figsize=(5,3))\n",
    "plt.plot(np.arange(0,12,1), y_test_unnorm, 'ko-', label='Observation')\n",
    "plt.errorbar(np.arange(0,12,1), data_output_mean, yerr=data_output_std, fmt='s--', color='tab:blue', ecolor='k', capsize=2,\n",
    "             label='ERA5-ERA5')\n",
    "plt.errorbar(np.arange(0,12,1), y_test_predict_wSEAS5_unnorm_all[5,:], yerr=np.std(y_test_predict_wSEAS5_unnorm_all[0:5,:],axis=0),\n",
    "             fmt='^:', color='tab:orange', ecolor='k', capsize=2, label='ERA5-SEAS5')\n",
    "plt.text(0, 3.2e9,'NSE={}'.format(round(NSE_hybrid,2)), fontsize=12, color='tab:orange')\n",
    "tick_labels = ['Jan', 'Feb', 'Mar', 'Apr', 'May', 'Jun', 'Jul', 'Aug', 'Sep', 'Oct', 'Nov', 'Dec']\n",
    "plt.xticks(np.arange(0,12,1), tick_labels, rotation=45)\n",
    "plt.ylabel(r'Volume ($m^3$)')\n",
    "plt.title('Hybrid Forecast & LSTM Output')\n",
    "plt.legend()\n",
    "plt.show()"
   ]
  },
  {
   "cell_type": "code",
   "execution_count": 73,
   "id": "d3a77fb1-45b0-47c6-860b-3939cc8d6611",
   "metadata": {
    "colab": {
     "base_uri": "https://localhost:8080/",
     "height": 385
    },
    "id": "d3a77fb1-45b0-47c6-860b-3939cc8d6611",
    "outputId": "d7b9343a-daf0-4597-fa3a-a17263576749"
   },
   "outputs": [
    {
     "data": {
      "image/png": "[encoded data removed]",
      "text/plain": [
       "<Figure size 300x300 with 1 Axes>"
      ]
     },
     "metadata": {},
     "output_type": "display_data"
    }
   ],
   "source": [
    "### calculate seasonal total volumes\n",
    "\n",
    "# volume of all 5 ensemble members & ensemble mean\n",
    "y_test_predict_wSEAS5_volume = np.sum(y_test_predict_wSEAS5_unnorm_all[:,0:9], axis=1)\n",
    "\n",
    "# plot as bar graph\n",
    "fig = plt.figure(figsize=(3,3))\n",
    "plt.bar(0, y_test_volume, color='tab:gray')\n",
    "plt.bar(1, data_output_mean_volume, yerr=np.std(data_output_volume), color='tab:blue', ecolor='k', capsize=2)\n",
    "plt.bar(2, y_test_predict_wSEAS5_volume[5], yerr=np.std(y_test_predict_wSEAS5_volume[0:5]), color='tab:orange',\n",
    "        ecolor='k', capsize=2)\n",
    "plt.xticks([0,1,2], ['Observation', 'ERA5-ERA5', 'ERA5-SEAS5'], rotation=45)\n",
    "plt.ylabel(r'Volume (m^3)')\n",
    "plt.title('Seasonal Total Volumes')\n",
    "plt.show()"
   ]
  }
 ],
 "metadata": {
  "colab": {
   "collapsed_sections": [
    "59412dc0-6ceb-4839-93c7-bb81bb966453"
   ],
   "provenance": []
  },
  "kernelspec": {
   "display_name": "Python 3 (ipykernel)",
   "language": "python",
   "name": "python3"
  },
  "language_info": {
   "codemirror_mode": {
    "name": "ipython",
    "version": 3
   },
   "file_extension": ".py",
   "mimetype": "text/x-python",
   "name": "python",
   "nbconvert_exporter": "python",
   "pygments_lexer": "ipython3",
   "version": "3.13.1"
  }
 },
 "nbformat": 4,
 "nbformat_minor": 5
}
