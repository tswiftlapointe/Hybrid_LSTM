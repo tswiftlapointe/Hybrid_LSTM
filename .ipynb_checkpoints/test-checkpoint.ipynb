{
 "cells": [
  {
   "cell_type": "code",
   "execution_count": 6,
   "id": "0db5a88a-6514-432e-8287-9537a8e44748",
   "metadata": {},
   "outputs": [
    {
     "data": {
      "text/markdown": [
       "# Hybrid Statistical-Dynamical Forecast for Seasonal Streamflow in the Columbia River basin\n",
       "\n",
       "This repository contains the code used in the study:\n",
       "\n",
       "Swift-LaPointe, T., White, R.H., and Radic, V.  \"A hybrid statistical-dynamical forecast of seasonal streamflow for the Columbia River basin in Canada\" (Submitted 2025).\n",
       "\n",
       "The code in this repository can reproduce all figures in the study, as well as provide an example to train one hybrid statistical-dynamical forecast as used in the study. The repository contains the following:\n",
       "\n",
       "* Data_setup.ipynb: Loads raw data (temperature, precipitation, streamflow), processes into format required for Train_LSTM_example.ipynb. \n",
       "* Train_LSTM_example.ipynb: Defines functions, loads preprocessed data, trains LSTM model, creates hybrid forecast for one example test year.\n",
       "* Paper_figures/: Directory that contains code, data to reproduce figures, figure pdf files.\n",
       "  * Figures_code.ipynb: Code to reproduce all figures\n",
       "  * Data_for_figures/: Contains all data to reproduce figures.\n",
       "    * Elevation_data/: Directory containing NOAA ETOPO Elevation data files required for Figure 1 (NOAA, 2022).\n",
       "* indices_example.csv: Example training, validation, and testing year indices for one example test year (1982), as used in Train_LSTM_example.ipynb.\n",
       "* indices_example1.csv: Example training, validation, and testing year indices for one example test year (2014), as used in Train_LSTM_example.ipynb.\n",
       "* Mica_basin_outline.csv: Basin outline coordinates for the Kinbasket Lake Reservoir catchment, from Environment and Climate Change Canada: National hydrometric network basins polygons dataset (Environment and Climate Change Canada, 2016).\n",
       "\n",
       "## Steps to build example hybrid forecast:\n",
       "\n",
       "Local file organization should be as outlined below before proceeding. Create new directory ./Hybrid_LSTM/Data/ to hold the preprocessed data.\n",
       "\n",
       "1. Download Bonneville Power Administration 2020 Level Modified Flow daily data (Dakhlalla et al., 2020) from [here](https://www.bpa.gov/energy-and-services/power/historical-streamflow-data). Only the file MCD6A_daily.xlsx is required, save this as .csv in Hybrid_LSTM/Data/.\n",
       "2. Download ERA5 reanalysis data (Hersbach et al., 2020) as specified in Data_setup.ipynb from [here](https://cds.climate.copernicus.eu/datasets/reanalysis-era5-single-levels?tab=download). Save this data locally in Hybrid_LSTM/Data/.\n",
       "3. Download ECMWF SEAS5 seasonal forecast data (Johnson et al., 2019) as specified in Data_setup.ipynb from [here](https://cds.climate.copernicus.eu/datasets/seasonal-monthly-single-levels?tab=download)\n",
       "5. Run Data_setup.ipynb to convert raw data into monthly-averaged format required for Train_LSTM_example.ipynb.\n",
       "\n",
       "Train_LSTM_example.ipynb is set up to run in Google Colab, as this gives access to a GPU which can significantly speed up computation time when training the LSTM model. Google Colab accesses data in Google Drive and all outputs are saved in Google Drive. Thus, input files must be uploaded to an appropriate folder in Google Drive. Google Drive file organization specified below.\n",
       "\n",
       "5. Upload the preprocessed input data from Step 5 to Google Drive in folder './Hybrid_LSTM/Data/'.\n",
       "6. Upload the files indices_example.csv and indices_example1.csv to Google Drive in folder './Hybrid_LSTM/Output/'.\n",
       "7. Run Train_LSTM_example.ipynb.\n",
       "\n",
       "## File Organization\n",
       "\n",
       "Local organization:\n",
       "* Hybrid_LSTM/\n",
       "  * Data_setup.ipynb\n",
       "  * Train_LSTM_example.ipynb\n",
       "  * indices_example.csv\n",
       "  * indices_example1.csv\n",
       "  * Mica_basin_outline.csv\n",
       "  * Paper_figures/\n",
       "    * Figures_code.ipynb\n",
       "    * Data_for_figures/\n",
       "      * Data need for creating figures (.csv)\n",
       "      * Elevation_data/\n",
       "        * ETOPO_2022_v1_15s_N60W120_surface.nc\n",
       "        * ...\n",
       "        * ETOPO_2022_v1_15s_N75W150_surface.nc\n",
       "    * Fig01.pdf\n",
       "    * ...\n",
       "    * Fig12.pdf\n",
       "  * Data/\n",
       "    * MCD6A_daily.csv\n",
       "    * ERA5_T2m_1981_2017_6hourly_ecmwfgrid.nc\n",
       "    * ERA5_Precip_1981_1993_hourly_ecmwfgrid.nc\n",
       "    * ERA5_Precip_1994_2006_hourly_ecmwfgrid.nc\n",
       "    * ERA5_Precip_2007_2017_hourly_ecmwfgrid.nc\n",
       "    * SEAS5_forecasts_1981_2017_monthly.nc\n",
       "\n",
       "In Google Drive, for using Google Colab:\n",
       "* My Drive/  \n",
       "\t* Colab Notebooks/  \n",
       "\t\t* Hybrid_LSTM/   \n",
       "\t\t\t* Data/\n",
       "              * BPA_monthly_volumes_1981_2017.csv\n",
       "              * Monthly_input_Mica_1981_2017.csv\n",
       "              * Monthly_climatology_Mica_1981_2017.csv\n",
       "              * SEAS5_monthly_input_Mica_1981_2017.csv\n",
       "\t\t\t* Output/\n",
       "              * indices_example.csv\n",
       "              * indices_example1.csv\n",
       "\t\t\t* Models/\n",
       " \n",
       "## References\n",
       "\n",
       "* Dakhlalla, A., Hughes, S., McManamon, A., Pytlak, E., Roth, T. R., and van der Zweep, R.: 2020 Level Modified Streamflow: 1928-2018, Bonneville Power Administration, Department of Energy, Portland, OR, 2020.\n",
       "* Environment and Climate Change Canada: National hydrometric network basin polygons, https://open.canada.ca/data/en/dataset/0c121878-ac23-46f5-95df-eb9960753375 (last access: 10 March 2025), 2016.\n",
       "* Hersbach, H., et al.: The ERA5 global reanalysis, Quarterly Journal of the Royal Meteorological Society, 146, 1999–2049, https://doi.org/10.1002/qj.3803, 2020.\n",
       "* Johnson, S. J., et al.: SEAS5: the new ECMWF seasonal forecast system, Geoscientific Model Development, 12, 1087–1117, https://doi.org/10.5194/gmd-12-1087-2019, 2019.\n",
       "* NOAA:National Centers for Environmental Information: ETOPO 2022 15 Arc-Second Global Relief Model, https://doi.org/10.25921/fd45gt74 (last access 12 Sep 2024), 2022."
      ],
      "text/plain": [
       "<IPython.core.display.Markdown object>"
      ]
     },
     "metadata": {},
     "output_type": "display_data"
    }
   ],
   "source": [
    "from IPython.display import Markdown, display\n",
    "\n",
    "display(Markdown(\"test.md\"))"
   ]
  },
  {
   "cell_type": "code",
   "execution_count": null,
   "id": "c07f830e-58d7-4bf4-aeca-f49b95f6c000",
   "metadata": {},
   "outputs": [],
   "source": []
  }
 ],
 "metadata": {
  "kernelspec": {
   "display_name": "Python 3 (ipykernel)",
   "language": "python",
   "name": "python3"
  },
  "language_info": {
   "codemirror_mode": {
    "name": "ipython",
    "version": 3
   },
   "file_extension": ".py",
   "mimetype": "text/x-python",
   "name": "python",
   "nbconvert_exporter": "python",
   "pygments_lexer": "ipython3",
   "version": "3.13.1"
  }
 },
 "nbformat": 4,
 "nbformat_minor": 5
}
